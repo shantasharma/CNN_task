{
  "nbformat": 4,
  "nbformat_minor": 0,
  "metadata": {
    "colab": {
      "name": "CNN_Task2.ipynb",
      "provenance": [],
      "collapsed_sections": [],
      "mount_file_id": "1Sb-hUmSEYlc1_8WlXFqoQmhtSXZcu3dB",
      "authorship_tag": "ABX9TyO+QHmKkMkBkJHaNJd38zS4",
      "include_colab_link": true
    },
    "kernelspec": {
      "display_name": "Python 3",
      "name": "python3"
    },
    "language_info": {
      "name": "python"
    },
    "accelerator": "GPU"
  },
  "cells": [
    {
      "cell_type": "markdown",
      "metadata": {
        "id": "view-in-github",
        "colab_type": "text"
      },
      "source": [
        "<a href=\"https://colab.research.google.com/github/shantasharma/CNN_task/blob/main/CNN_Task2.ipynb\" target=\"_parent\"><img src=\"https://colab.research.google.com/assets/colab-badge.svg\" alt=\"Open In Colab\"/></a>"
      ]
    },
    {
      "cell_type": "markdown",
      "metadata": {
        "id": "GNkBH8HLt96q"
      },
      "source": [
        "## First Part\n",
        "\n",
        "Use this dataset (https://www.dropbox.com/s/pan6mutc5xj5kj0/trainPart1.zip) to train a CNN. Use no other data source or pretrained networks, and explain your design choices during preprocessing, model building and training. Also, cite the sources you used to borrow techniques. A test set will be provided later to judge the performance of your classifier. Please save your model checkpoints."
      ]
    },
    {
      "cell_type": "code",
      "metadata": {
        "id": "9_ual-2bhC1l"
      },
      "source": [
        "#importimg required libraries for data preprocessing\n",
        "import cv2\n",
        "import os\n",
        "import random\n",
        "from json import loads\n",
        "import matplotlib.pyplot as plt\n",
        "from itertools import repeat\n",
        "from keras.preprocessing.image import ImageDataGenerator"
      ],
      "execution_count": 1,
      "outputs": []
    },
    {
      "cell_type": "markdown",
      "metadata": {
        "id": "giwbFwTu95AF"
      },
      "source": [
        "## Data Preprocessing <br>\n",
        "\n",
        "This is the part of the code which deals with preprocessing the data. Following are cells in which data preprocessing have been performed."
      ]
    },
    {
      "cell_type": "markdown",
      "metadata": {
        "id": "TUToGB7kGR9t"
      },
      "source": [
        "In this cell config contains the address to the orignal_data_path consists the path to the orignal training images and prosessed_data_path consists path to the processed images. These paths can be changed accoringly.  For the purpose of testing, please assign the path to testing data to test_data_path\n",
        "\n"
      ]
    },
    {
      "cell_type": "code",
      "metadata": {
        "id": "cpQhZKVg40P4"
      },
      "source": [
        "#this is config file. It consists of input and output directories. To run the code, one must change the paths.\n",
        "\n",
        "\n",
        "config = '{\"original_data_path\": \"/content/drive/MyDrive/mitdas/trainPart1.zip (Unzipped Files)/train/\", \"processed_data_path\":\"/content/drive/MyDrive/mitdas/out_dir/\", \"test_data_path\":\" \"}'\n",
        "\n",
        "def path_gen(config):\n",
        "      msg = loads(config)\n",
        "      processed_data_path = msg[\"processed_data_path\"]\n",
        "      original_data_path = msg[\"original_data_path\"]\n",
        "      return original_data_path, processed_data_path\n",
        "\n",
        "original_data_path, processed_data_path = path_gen(config)\n",
        "\n"
      ],
      "execution_count": null,
      "outputs": []
    },
    {
      "cell_type": "markdown",
      "metadata": {
        "id": "C2S_M84pNbIt"
      },
      "source": [
        "This fuction generates paths to of all the training images avalaible"
      ]
    },
    {
      "cell_type": "code",
      "metadata": {
        "id": "h56786e0XGrO"
      },
      "source": [
        "image_path = []\n",
        "\n",
        "for root, dir_name, files in os.walk(original_data_path):\n",
        "    for d in sorted(dir_name):\n",
        "      file = [os.path.join(original_data_path, d, name) for name in os.listdir(os.path.join(original_data_path, d)) if os.path.isfile(os.path.join(original_data_path ,d, name))]\n",
        "      image_path.extend(file)\n",
        "\n"
      ],
      "execution_count": null,
      "outputs": []
    },
    {
      "cell_type": "markdown",
      "metadata": {
        "id": "e1_aVU0XNrWf"
      },
      "source": [
        "Generates a sample of 6 random images from training data for the purpose of visualisation. \n",
        "\n",
        "Observations:\n",
        "*   In these images we can see that there is alot of white background around    the main character. My ideas is to crop out the white background horizontally, as it does not contain any information w.r.t to the character's geometric details. While the white background wrt to positive y axis has been preserved as it would provide information about the characters height which can be useful feature in distinguishing between the small and capital alphabets which are similar to each other in shape like (O, o), (S, s), (P, p) etc.\n",
        "\n",
        "*  Along with this most of the images in the dataset provided are thick edged images. Inorder enable the model to train on thin edged images, I chose 6 images randomly from each character and skletonized it. After this inorder to reduced sharp edges the image's edges were smoothened.\n",
        "\n"
      ]
    },
    {
      "cell_type": "code",
      "metadata": {
        "id": "yVpudn2Lc-wy",
        "colab": {
          "base_uri": "https://localhost:8080/",
          "height": 193
        },
        "outputId": "060270e2-8946-4855-ab72-f1a8d5743827"
      },
      "source": [
        "print('Generating sample images')\n",
        "rand = random.sample(image_path, 6)  \n",
        "\n",
        "for i in range(0, 6):\n",
        "    img = cv2.imread(rand[i], 0)\n",
        "    img = img/255\n",
        "    \n",
        "    plt.subplot(3, 3, i + 1)\n",
        "    plt.subplots_adjust(wspace=1, hspace=0)\n",
        "    plt.imshow(img, cmap='gray')\n"
      ],
      "execution_count": null,
      "outputs": [
        {
          "output_type": "stream",
          "text": [
            "Generating sample images\n"
          ],
          "name": "stdout"
        },
        {
          "output_type": "display_data",
          "data": {
            "image/png": "[encoded data removed]",
            "text/plain": [
              "<Figure size 432x288 with 6 Axes>"
            ]
          },
          "metadata": {
            "tags": [],
            "needs_background": "light"
          }
        }
      ]
    },
    {
      "cell_type": "markdown",
      "metadata": {
        "id": "ZChRH-Q8TySs"
      },
      "source": [
        "Image preprocesing: <br>\n",
        "All the image preporcessing is performed using cv2 library.\n",
        "\n",
        "Following are the steps performed for image preporcessing.\n",
        "\n",
        "1. Convert the images to gray scale\n",
        "2. To find the threshold values and the thresholded images\n",
        "3. Find the contours and find the contours with the largest area\n",
        "4. Find the bounding boxes\n",
        "5. Crop the images\n",
        "\n",
        "Images:                                                                         \n",
        "\n",
        "![image.png](data:image/png;base64,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)\n",
        "\n",
        "\n",
        "\n",
        "Skeletonization:\n",
        "\n",
        "1. Six random images are selected from each folder.\n",
        "\n",
        "2. The images are cropped using the above mentioned steps. The edges of the images are then reduced in thickness using erode function. Following is the image obtained:\n",
        "\n",
        "3. The sharp edges of the images are then smoothened using the median blur function.Following is the image obtained.\n",
        "\n",
        "![image.png](data:image/png;base64,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)\n",
        "\n",
        "\n",
        "\n"
      ]
    },
    {
      "cell_type": "markdown",
      "metadata": {
        "id": "KMbbh4nzuqPm"
      },
      "source": [
        "Directory Structure Creation:\n",
        "\n",
        "1. Variable Description:\n",
        "\n",
        "> gt_base: It is the list of labels.<br>\n",
        "> save_path: It is the list of all folders in which the images are to be saved.<br>\n",
        "> processed_paths: It is the list of paths of processed images.<br>\n",
        "\n",
        "\n",
        "2. Structure: Consists of 62 folders, each folder consists of images that belong to it's label i.e. out_dir consists of folders each names after the label whose image it contains\n",
        "    \n",
        "\n",
        "\n",
        "\n",
        "\n",
        "\n",
        "\n",
        "\n",
        "\n"
      ]
    },
    {
      "cell_type": "code",
      "metadata": {
        "id": "yTzCrcjqiBQ8"
      },
      "source": [
        "def cropped_images(image_data, processed_data_path):\n",
        "\n",
        "\n",
        "  gt_base = []\n",
        "  save_path = []\n",
        "  processed_paths = []\n",
        "  count = -1\n",
        "\n",
        "  for j in range(0, 62):\n",
        "    if(j < 10):\n",
        "      gt_base.append(str(j))\n",
        "\n",
        "    elif(j < 36):\n",
        "      gt_base.append(chr(55 + j))\n",
        "\n",
        "    else:\n",
        "      gt_base.append((chr(61 + j)))\n",
        "\n",
        "\n",
        "  for root, dir_name, files in os.walk(original_data_path, processed_data_path):\n",
        "\n",
        "      for d in sorted(dir_name):\n",
        "        count = count + 1\n",
        "        if not os.path.isdir(os.path.join(processed_data_path, gt_base[count])):\n",
        "          print(os.path.join(processed_data_path, gt_base[count]))\n",
        "          os.mkdir(os.path.join(processed_data_path, gt_base[count]))\n",
        "        filef = [os.path.join(original_data_path, d, name) for name in os.listdir(os.path.join(original_data_path, d))]\n",
        "        save_path.append(os.path.join(processed_data_path, gt_base[count]))\n",
        "        rand = random.sample(filef, 6)\n",
        "        print(rand)\n",
        "\n",
        "        for f in filef:\n",
        "\n",
        "            im_gray1 = cv2.imread(f, 0)\n",
        "            height, width = im_gray1.shape\n",
        "            th, im_gray = cv2.threshold(im_gray1, 240, 255, cv2.THRESH_BINARY_INV)\n",
        "            cnts = cv2.findContours(im_gray , cv2.RETR_EXTERNAL, cv2.CHAIN_APPROX_SIMPLE)[-2]\n",
        "            cnt = sorted(cnts, key=cv2.contourArea)[-1]\n",
        "            x,y,w,h = cv2.boundingRect(cnt)\n",
        "            dst = im_gray1[0: y + h + 10, x - 10: x + w + 10]\n",
        "            file_name = f.split('/')[-1]\n",
        "            file_save_path = os.path.join(save_path[count], file_name)\n",
        "            cv2.imwrite(file_save_path, dst)\n",
        "            processed_paths.append(file_save_path)\n",
        "      \n",
        "        \n",
        "        for rf in rand:\n",
        "\n",
        "            kernel = np.ones((5, 5),np.uint8)\n",
        "            img = cv2.imread(rf, 0)\n",
        "            th, img = cv2.threshold(img, 125, 255, cv2.THRESH_BINARY_INV)\n",
        "\n",
        "            cnts = cv2.findContours(img, cv2.RETR_EXTERNAL, cv2.CHAIN_APPROX_SIMPLE)[-2]\n",
        "            cnt = sorted(cnts, key = cv2.contourArea)[-1]\n",
        "            x,y,w,h = cv2.boundingRect(cnt)\n",
        "            img = img[0 : y + h + 10, x - 10 : x + w + 10]\n",
        "\n",
        "\n",
        "            img = cv2.erode(img, kernel, iterations = 9)\n",
        "            img = cv2.pyrUp(img)\n",
        "\n",
        "            for i in range(0, 15):\n",
        "              img = cv2.medianBlur(img, 7)\n",
        "\n",
        "\n",
        "            img = cv2.pyrDown(img)\n",
        "            th, img = cv2.threshold(img, 200, 255, cv2.THRESH_BINARY_INV)\n",
        "\n",
        "            file_name = rf.split('/')[-1]\n",
        "            file_name = file_name + '_1'\n",
        "            file_save_path = os.path.join(save_path[count], file_name)\n",
        "            cv2.imwrite(file_save_path, img)\n",
        "            processed_paths.append(file_save_path)\n",
        "\n",
        "\n",
        "  return processed_paths\n",
        "\n",
        "\n",
        "#uncomment this command if you want to preprocess the images\n",
        "#Inorder to generate test data, please update all the paths in this cell and the preceeding cells correctly\n",
        "#save_paths = cropped_images(image_path, processed_data_path)"
      ],
      "execution_count": null,
      "outputs": []
    },
    {
      "cell_type": "markdown",
      "metadata": {
        "id": "sUqBrRZ-UbBw"
      },
      "source": [
        "#### Image augmentation\n",
        "\n",
        "In this width_shift, height_Shift, shear range and zoom range augmentation techniques have been used, as it helped in achieveing best performance. Horizontal flip, vertical flip were not used because these can cause confusion between (9, 6) and (P and 9[diferent nine])\n"
      ]
    },
    {
      "cell_type": "code",
      "metadata": {
        "colab": {
          "base_uri": "https://localhost:8080/"
        },
        "id": "AoHtX_z6PeP7",
        "outputId": "b85306ce-94e4-4f2d-845c-a66d0bae3a8d"
      },
      "source": [
        "\n",
        "dir = '/content/drive/MyDrive/mitdas/dir_out/'\n",
        "\n",
        "train_datagen = ImageDataGenerator(\n",
        "        width_shift_range=0.2,\n",
        "        height_shift_range=0.2,\n",
        "        rescale = 1./255,\n",
        "        shear_range = 0.2,\n",
        "        zoom_range = 0.2,\n",
        "        validation_split=0.2,\n",
        "        )\n",
        "\n",
        "data = train_datagen.flow_from_directory(\n",
        "      dir,\n",
        "      batch_size=32,\n",
        "      target_size=(50, 50),\n",
        "      shuffle = True,\n",
        "      subset='training'\n",
        "      )\n",
        "\n",
        "val_data = train_datagen.flow_from_directory(\n",
        "      dir,\n",
        "      batch_size=32,\n",
        "      target_size=(50, 50),\n",
        "      shuffle = True,\n",
        "      subset='validation'\n",
        "      )"
      ],
      "execution_count": 2,
      "outputs": [
        {
          "output_type": "stream",
          "text": [
            "Found 1984 images belonging to 62 classes.\n",
            "Found 496 images belonging to 62 classes.\n"
          ],
          "name": "stdout"
        }
      ]
    },
    {
      "cell_type": "markdown",
      "metadata": {
        "id": "AuVhZmJr_QAN"
      },
      "source": [
        "Libraries for model training"
      ]
    },
    {
      "cell_type": "code",
      "metadata": {
        "id": "5Qh9lPW5YtA6"
      },
      "source": [
        "from keras.models import Sequential\n",
        "from keras.layers import Conv2D, MaxPooling2D\n",
        "from keras.layers import Activation, Dropout, Flatten, Dense\n",
        "from keras import backend as K\n",
        "from keras.layers import BatchNormalization\n",
        "from keras.layers import LeakyReLU\n",
        "import keras\n",
        "import matplotlib.pyplot as plt\n",
        "import tensorflow as tf\n"
      ],
      "execution_count": 2,
      "outputs": []
    },
    {
      "cell_type": "markdown",
      "metadata": {
        "id": "WFLUwb883UPn"
      },
      "source": [
        "Plotting model accuracy and loss"
      ]
    },
    {
      "cell_type": "code",
      "metadata": {
        "id": "ly6p6hzf2iil"
      },
      "source": [
        "import matplotlib.pyplot as plt\n",
        "def plot_model(model_archi):\n",
        "  plt.plot(model_archi.history['acc'])\n",
        "  plt.plot(model_archi.history['val_acc'])\n",
        "  plt.title('model accuracy')\n",
        "  plt.ylabel('accuracy')\n",
        "  plt.xlabel('epoch')\n",
        "  plt.legend(['train', 'val'], loc='upper left')\n",
        "  plt.show()\n",
        "  print(\" \")\n",
        "  plt.plot(model_archi.history['loss'])\n",
        "  plt.plot(model_archi.history['val_loss'])\n",
        "  plt.title('model loss')\n",
        "  plt.ylabel('loss')\n",
        "  plt.xlabel('epoch')\n",
        "  plt.legend(['train', 'val'], loc='upper left')\n",
        "  plt.show()"
      ],
      "execution_count": 12,
      "outputs": []
    },
    {
      "cell_type": "code",
      "metadata": {
        "id": "y4iyIxyruLDh"
      },
      "source": [
        "from tensorflow import keras\n",
        "\n",
        "model_2 = keras.models.Sequential([                                     \n",
        "    keras.layers.Conv2D(64, kernel_size = 5, strides = 1,  activation='relu', input_shape=(50, 50, 3), padding='same'), #C1\n",
        "    keras.layers.MaxPooling2D(pool_size=(2, 2), strides=(2, 2)), #S2\n",
        "    keras.layers.Conv2D(128, kernel_size = 5, strides = 1, activation='relu', padding='same'), #C3\n",
        "    keras.layers.MaxPooling2D(pool_size=(2, 2), strides=(2, 2)), #\n",
        "    keras.layers.Conv2D(256, kernel_size = 5, strides = 1, activation='relu', padding='same'), #C3\n",
        "    keras.layers.MaxPooling2D(pool_size=(2, 2), strides=(2, 2)), #S4\n",
        "    keras.layers.Dropout(0.8),\n",
        "    keras.layers.Flatten(), #Flatten\n",
        "    keras.layers.Dense(62, activation='softmax') #Output layer\n",
        "])\n",
        "\n",
        "\n",
        "checkpoint_filepath = '/content/drive/MyDrive/mitdas/temp/points'\n",
        "\n",
        "model_checkpoint_callback = keras.callbacks.ModelCheckpoint(\n",
        "    filepath=checkpoint_filepath,\n",
        "    save_weights_only=False,\n",
        "    save_freq= 20,\n",
        "    monitor='acc',\n",
        "    mode='max',\n",
        "    save_best_only=True)\n",
        "\n",
        "model_2.compile(loss='categorical_crossentropy',\n",
        "              optimizer= 'adam',\n",
        "              metrics=['acc'])\n",
        "\n",
        "\n",
        "lenet_model_2 = model_2.fit_generator(\n",
        "              data,\n",
        "              steps_per_epoch = 40,\n",
        "              epochs= 100,\n",
        "              validation_data = val_data,\n",
        "              validation_steps = 10,\n",
        "              callbacks = [model_checkpoint_callback])"
      ],
      "execution_count": null,
      "outputs": []
    },
    {
      "cell_type": "markdown",
      "metadata": {
        "id": "35-GaZkhz_SM"
      },
      "source": [
        "## Train on MNIST dataset.\n",
        "\n",
        "1. Loading MNIST dataset.<br>\n",
        "source of data: http://yann.lecun.com/exdb/mnist/<br>\n",
        "code reference: https://stackoverflow.com/questions/62958011/how-to-correctly-parse-mnist-datasetidx-format-into-python-arrays"
      ]
    },
    {
      "cell_type": "markdown",
      "metadata": {
        "id": "3v68Nzp83g-h"
      },
      "source": [
        "Unzipping the files"
      ]
    },
    {
      "cell_type": "code",
      "metadata": {
        "id": "vm0Ic7BZ2prO"
      },
      "source": [
        "!gzip -d /content/drive/MyDrive/mitdas/train-images-idx3-ubyte.gz"
      ],
      "execution_count": null,
      "outputs": []
    },
    {
      "cell_type": "code",
      "metadata": {
        "id": "DHE3s1sE4Ycp"
      },
      "source": [
        "!gzip -d /content/drive/MyDrive/mitdas/train-labels-idx1-ubyte.gz"
      ],
      "execution_count": null,
      "outputs": []
    },
    {
      "cell_type": "code",
      "metadata": {
        "colab": {
          "base_uri": "https://localhost:8080/"
        },
        "id": "SSHY7NDtvq8G",
        "outputId": "2fca0178-3400-4c03-bed5-1d14aea036a7"
      },
      "source": [
        "!gzip -d /content/drive/MyDrive/mitdas/t10k-labels-idx1-ubyte.gz"
      ],
      "execution_count": null,
      "outputs": [
        {
          "output_type": "stream",
          "text": [
            "gzip: /content/drive/MyDrive/mitdas/t10k-labels-idx1-ubyte already exists; do you wish to overwrite (y or n)? y\n"
          ],
          "name": "stdout"
        }
      ]
    },
    {
      "cell_type": "code",
      "metadata": {
        "colab": {
          "base_uri": "https://localhost:8080/"
        },
        "id": "LD9a5aI1v60a",
        "outputId": "e7cdd162-7746-4ead-d9f5-47a8c5671119"
      },
      "source": [
        "!gzip -d /content/drive/MyDrive/mitdas/t10k-images-idx3-ubyte.gz"
      ],
      "execution_count": null,
      "outputs": [
        {
          "output_type": "stream",
          "text": [
            "gzip: /content/drive/MyDrive/mitdas/t10k-images-idx3-ubyte already exists; do you wish to overwrite (y or n)? y\n"
          ],
          "name": "stdout"
        }
      ]
    },
    {
      "cell_type": "markdown",
      "metadata": {
        "id": "lwBWi2er3kVt"
      },
      "source": [
        "Data extraction"
      ]
    },
    {
      "cell_type": "code",
      "metadata": {
        "colab": {
          "base_uri": "https://localhost:8080/"
        },
        "id": "f3T7M8T51QEh",
        "outputId": "cdc7e42f-2fb6-47c4-8b68-f3fd6c19587f"
      },
      "source": [
        "import numpy as np\n",
        "import struct\n",
        "\n",
        "filename = {'images' : '/content/drive/MyDrive/mitdas/train-labels-idx1-ubyte' ,'labels' : '/content/drive/MyDrive/mitdas/train-labels-idx1-ubyte'}\n",
        "\n",
        "with open('/content/drive/MyDrive/mitdas/train-images-idx3-ubyte', 'rb') as f:\n",
        "    magic, size = struct.unpack('>II', f.read(8))\n",
        "    nrows, ncols = struct.unpack('>II', f.read(8))\n",
        "    \n",
        "    data = np.fromfile(f, dtype=np.dtype(np.uint8)).newbyteorder(\">\")\n",
        "    data = data.reshape((size, nrows, ncols))\n",
        "    print(data.shape)\n",
        "\n",
        "with open('/content/drive/MyDrive/mitdas/train-labels-idx1-ubyte', 'rb') as i:\n",
        "    magic, size = struct.unpack('>II', i.read(8))\n",
        "    data_1 = np.fromfile(i, dtype=np.dtype(np.uint8)).newbyteorder(\">\")   \n",
        "\n",
        "x_train, y_train = data, data_1\n",
        "\n",
        "\n",
        "with open('/content/drive/MyDrive/mitdas/t10k-images-idx3-ubyte', 'rb') as f:\n",
        "    magic, size = struct.unpack('>II', f.read(8))\n",
        "    nrows, ncols = struct.unpack('>II', f.read(8))\n",
        "    \n",
        "    tdata = np.fromfile(f, dtype=np.dtype(np.uint8)).newbyteorder(\">\")\n",
        "    tdata = tdata.reshape((size, nrows, ncols))\n",
        "    print(data.shape)\n",
        "\n",
        "with open('/content/drive/MyDrive/mitdas/t10k-labels-idx1-ubyte', 'rb') as i:\n",
        "    magic, size = struct.unpack('>II', i.read(8))\n",
        "    tdata_1 = np.fromfile(i, dtype=np.dtype(np.uint8)).newbyteorder(\">\") \n",
        "\n",
        "\n",
        "x_test, y_test = tdata, tdata_1"
      ],
      "execution_count": 3,
      "outputs": [
        {
          "output_type": "stream",
          "text": [
            "(60000, 28, 28)\n",
            "(60000, 28, 28)\n"
          ],
          "name": "stdout"
        }
      ]
    },
    {
      "cell_type": "markdown",
      "metadata": {
        "id": "U9gzzT2N4RBT"
      },
      "source": [
        "Resizing the images to make it comaptible to the model. Converting (28, 28) image to (50, 50, 3)"
      ]
    },
    {
      "cell_type": "code",
      "metadata": {
        "id": "cZDb9TLb0diE"
      },
      "source": [
        "x_train, x_test = x_train / 255.0, x_test / 255.0\n",
        "\n",
        "\n",
        "len = x_train.shape[0]\n",
        "resize = np.zeros(((len, 50, 50, 3)))\n",
        "\n",
        "for i in range(0, len):\n",
        "  img = cv2.resize(x_train[i], dsize=(50, 50), interpolation=cv2.INTER_CUBIC)\n",
        "  img = np.expand_dims(img, axis=2)\n",
        "  image = cv2.merge((img ,img, img))\n",
        "  resize[i] = image\n",
        "\n",
        "\n",
        "len1 = x_test.shape[0]\n",
        "resize_t = np.zeros(((len1, 50, 50, 3)))\n",
        "\n",
        "for i in range(0, len1):\n",
        "  img = cv2.resize(x_test[i], dsize=((50, 50)), interpolation=cv2.INTER_CUBIC)\n",
        "  img = np.expand_dims(img, axis=2)\n",
        "  image = cv2.merge((img ,img, img))\n",
        "  resize_t[i] = img"
      ],
      "execution_count": 4,
      "outputs": []
    },
    {
      "cell_type": "markdown",
      "metadata": {
        "id": "pJ3ELkpn616Q"
      },
      "source": [
        "Creating one-hot-encoding for y_train and y_test"
      ]
    },
    {
      "cell_type": "code",
      "metadata": {
        "id": "jSdqlnLzSKeb"
      },
      "source": [
        "indices = y_train\n",
        "C = tf.constant(10, name = \"C\")\n",
        "      \n",
        "train = tf.one_hot(\n",
        "    indices, C, on_value = 1.0, off_value = 0.0, axis =-1)\n",
        "\n",
        "indices = y_test\n",
        "c = tf.constant(10, name = \"c\")\n",
        "      \n",
        "test = tf.one_hot(\n",
        "    indices, c, on_value = 1.0, off_value = 0.0, axis =-1) \n"
      ],
      "execution_count": 8,
      "outputs": []
    },
    {
      "cell_type": "markdown",
      "metadata": {
        "id": "tJG4DRq0_B7X"
      },
      "source": [
        "Loading the pre-trained model and training it on MNIST dataset. Removing the last dense layer and adding the dense layer with 10 units"
      ]
    },
    {
      "cell_type": "code",
      "metadata": {
        "id": "OPgs2j5woAfI"
      },
      "source": [
        "exp_path = '/content/drive/MyDrive/mitdas/temp/checkpoint_SA/'\n",
        "class_62 = tf.keras.models.load_model(exp_path)"
      ],
      "execution_count": 5,
      "outputs": []
    },
    {
      "cell_type": "code",
      "metadata": {
        "id": "oAsJqx1tSnsT"
      },
      "source": [
        "class_62.layers.pop()\n",
        "class_62.add(tf.keras.layers.Dense(10, activation='softmax'))\n",
        "for layer in class_62.layers:\n",
        "    layer.trainable = True"
      ],
      "execution_count": 6,
      "outputs": []
    },
    {
      "cell_type": "code",
      "metadata": {
        "colab": {
          "base_uri": "https://localhost:8080/"
        },
        "id": "obSA_0b804FL",
        "outputId": "c0b15bb8-a405-48e9-af0b-2aad8cba5ff2"
      },
      "source": [
        "class62_history = class_62.fit(resize, train, epochs = 20, validation_data = (resize_t, test), verbose=1)"
      ],
      "execution_count": 9,
      "outputs": [
        {
          "output_type": "stream",
          "text": [
            "Epoch 1/20\n",
            "1875/1875 [==============================] - 42s 5ms/step - loss: 2.0386 - acc: 0.5488 - val_loss: 1.8749 - val_acc: 0.6817\n",
            "Epoch 2/20\n",
            "1875/1875 [==============================] - 9s 5ms/step - loss: 1.7637 - acc: 0.6762 - val_loss: 1.6417 - val_acc: 0.6885\n",
            "Epoch 3/20\n",
            "1875/1875 [==============================] - 9s 5ms/step - loss: 1.5484 - acc: 0.6840 - val_loss: 1.4408 - val_acc: 0.6935\n",
            "Epoch 4/20\n",
            "1875/1875 [==============================] - 9s 5ms/step - loss: 1.3614 - acc: 0.6876 - val_loss: 1.2744 - val_acc: 0.6949\n",
            "Epoch 5/20\n",
            "1875/1875 [==============================] - 9s 5ms/step - loss: 1.2017 - acc: 0.6888 - val_loss: 1.1208 - val_acc: 0.6962\n",
            "Epoch 6/20\n",
            "1875/1875 [==============================] - 9s 5ms/step - loss: 1.0627 - acc: 0.6916 - val_loss: 0.9938 - val_acc: 0.6981\n",
            "Epoch 7/20\n",
            "1875/1875 [==============================] - 9s 5ms/step - loss: 0.9476 - acc: 0.6929 - val_loss: 0.8868 - val_acc: 0.6981\n",
            "Epoch 8/20\n",
            "1875/1875 [==============================] - 9s 5ms/step - loss: 0.8522 - acc: 0.6938 - val_loss: 0.8042 - val_acc: 0.6981\n",
            "Epoch 9/20\n",
            "1875/1875 [==============================] - 9s 5ms/step - loss: 0.7769 - acc: 0.6946 - val_loss: 0.7361 - val_acc: 0.6995\n",
            "Epoch 10/20\n",
            "1875/1875 [==============================] - 9s 5ms/step - loss: 0.7141 - acc: 0.6945 - val_loss: 0.6850 - val_acc: 0.7005\n",
            "Epoch 11/20\n",
            "1875/1875 [==============================] - 9s 5ms/step - loss: 0.6668 - acc: 0.6964 - val_loss: 0.6383 - val_acc: 0.7016\n",
            "Epoch 12/20\n",
            "1875/1875 [==============================] - 9s 5ms/step - loss: 0.6274 - acc: 0.6971 - val_loss: 0.6038 - val_acc: 0.7014\n",
            "Epoch 13/20\n",
            "1875/1875 [==============================] - 9s 5ms/step - loss: 0.5951 - acc: 0.6980 - val_loss: 0.5748 - val_acc: 0.7021\n",
            "Epoch 14/20\n",
            "1875/1875 [==============================] - 9s 5ms/step - loss: 0.5702 - acc: 0.6988 - val_loss: 0.5589 - val_acc: 0.7010\n",
            "Epoch 15/20\n",
            "1875/1875 [==============================] - 9s 5ms/step - loss: 0.5524 - acc: 0.6990 - val_loss: 0.5410 - val_acc: 0.7017\n",
            "Epoch 16/20\n",
            "1875/1875 [==============================] - 9s 5ms/step - loss: 0.5325 - acc: 0.6999 - val_loss: 0.5295 - val_acc: 0.7012\n",
            "Epoch 17/20\n",
            "1875/1875 [==============================] - 9s 5ms/step - loss: 0.5207 - acc: 0.7005 - val_loss: 0.5168 - val_acc: 0.7019\n",
            "Epoch 18/20\n",
            "1875/1875 [==============================] - 9s 5ms/step - loss: 0.5097 - acc: 0.7016 - val_loss: 0.5036 - val_acc: 0.7032\n",
            "Epoch 19/20\n",
            "1875/1875 [==============================] - 9s 5ms/step - loss: 0.5002 - acc: 0.7021 - val_loss: 0.5027 - val_acc: 0.7023\n",
            "Epoch 20/20\n",
            "1875/1875 [==============================] - 9s 5ms/step - loss: 0.4920 - acc: 0.7025 - val_loss: 0.4935 - val_acc: 0.7032\n"
          ],
          "name": "stdout"
        }
      ]
    },
    {
      "cell_type": "markdown",
      "metadata": {
        "id": "1hKX9Op_7KzK"
      },
      "source": [
        "Training the model on same architecture, but the kernels are randomly initailized."
      ]
    },
    {
      "cell_type": "code",
      "metadata": {
        "colab": {
          "base_uri": "https://localhost:8080/"
        },
        "id": "OEXQtKwCbBk6",
        "outputId": "d6077beb-2ccf-48e0-9c43-e57bf5c7fc20"
      },
      "source": [
        "\n",
        "model_2 = keras.models.Sequential([                                     \n",
        "    keras.layers.Conv2D(64, kernel_size = 5, strides = 1,  activation='relu', input_shape=(50, 50, 3), padding='same'), #C1\n",
        "    keras.layers.MaxPooling2D(pool_size=(2, 2), strides=(2, 2)), #S2\n",
        "    keras.layers.Conv2D(128, kernel_size = 5, strides = 1, activation='relu', padding='same'), #C3\n",
        "    keras.layers.MaxPooling2D(pool_size=(2, 2), strides=(2, 2)), #\n",
        "    keras.layers.Conv2D(256, kernel_size = 5, strides = 1, activation='relu', padding='same'), #C3\n",
        "    keras.layers.MaxPooling2D(pool_size=(2, 2), strides=(2, 2)), #S4\n",
        "    keras.layers.Dropout(0.8),\n",
        "    keras.layers.Flatten(), #Flatten\n",
        "    keras.layers.Dense(10, activation='softmax') #Output layer\n",
        "])\n",
        "\n",
        "model_2.compile(loss='categorical_crossentropy',\n",
        "              optimizer= 'adam',\n",
        "              metrics=['acc'])\n",
        "\n",
        "model2_history = model_2.fit(resize, train, epochs = 4, validation_data = (resize_t, test), verbose=1)\n"
      ],
      "execution_count": 14,
      "outputs": [
        {
          "output_type": "stream",
          "text": [
            "Epoch 1/4\n",
            "1875/1875 [==============================] - 19s 10ms/step - loss: 0.3013 - acc: 0.9007 - val_loss: 0.0368 - val_acc: 0.9890\n",
            "Epoch 2/4\n",
            "1875/1875 [==============================] - 18s 9ms/step - loss: 0.0665 - acc: 0.9793 - val_loss: 0.0296 - val_acc: 0.9910\n",
            "Epoch 3/4\n",
            "1875/1875 [==============================] - 18s 9ms/step - loss: 0.0509 - acc: 0.9842 - val_loss: 0.0195 - val_acc: 0.9934\n",
            "Epoch 4/4\n",
            "1875/1875 [==============================] - 18s 9ms/step - loss: 0.0429 - acc: 0.9869 - val_loss: 0.0261 - val_acc: 0.9920\n"
          ],
          "name": "stdout"
        }
      ]
    },
    {
      "cell_type": "markdown",
      "metadata": {
        "id": "OIPch5D48ef8"
      },
      "source": [
        "Model_Comparison"
      ]
    },
    {
      "cell_type": "code",
      "metadata": {
        "colab": {
          "base_uri": "https://localhost:8080/",
          "height": 590
        },
        "id": "svFruevH8pjt",
        "outputId": "18d1ad54-76a3-4024-e165-f49874765233"
      },
      "source": [
        "plot_model(class62_history)"
      ],
      "execution_count": 13,
      "outputs": [
        {
          "output_type": "display_data",
          "data": {
            "image/png": "[encoded data removed]",
            "text/plain": [
              "<Figure size 432x288 with 1 Axes>"
            ]
          },
          "metadata": {
            "tags": [],
            "needs_background": "light"
          }
        },
        {
          "output_type": "stream",
          "text": [
            " \n"
          ],
          "name": "stdout"
        },
        {
          "output_type": "display_data",
          "data": {
            "image/png": "[encoded data removed]",
            "text/plain": [
              "<Figure size 432x288 with 1 Axes>"
            ]
          },
          "metadata": {
            "tags": [],
            "needs_background": "light"
          }
        }
      ]
    },
    {
      "cell_type": "code",
      "metadata": {
        "id": "1s1vlfOuBQnS"
      },
      "source": [
        "plot_model(model2_history)"
      ],
      "execution_count": null,
      "outputs": []
    },
    {
      "cell_type": "markdown",
      "metadata": {
        "id": "kJCMG7BEBbzs"
      },
      "source": [
        "The randomly initialized achitecture converges acter and shows better accuracy"
      ]
    },
    {
      "cell_type": "markdown",
      "metadata": {
        "id": "VH8DZx0v8qZA"
      },
      "source": [
        "### Part 3\n",
        "\n",
        " 3. Finally, take the following dataset (https://www.dropbox.com/s/otc12z2w7f7xm8z/mnistTask3.zip), train on this dataset and provide test accuracy on the MNIST test set, using the same test split from part 2. Train using scratch random initialization and using the pretrained network part 1. Do the same analysis as 2 and report what happens this time. Try and do qualitative analysis of what's different in this dataset. Please save your model checkpoints.\n",
        "\n",
        "\n",
        "\n",
        "---\n",
        "Now the images given in this folder are, though orgainised in folders labels 0, 1, 2 -----, 9 but every folder has images that belong all the numbers and there is no ground truth file available. Along with this, there was no pattern in which files were named. I could not think of a possible way of generating ground truth file for this dataset because of the mentioned reasons. Therefore, I did not train on the given dataset. \n"
      ]
    }
  ]
}